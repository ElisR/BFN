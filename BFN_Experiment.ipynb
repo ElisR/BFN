{
 "cells": [
  {
   "cell_type": "markdown",
   "metadata": {},
   "source": [
    "# Trying out Bayesian Flow Networks\n",
    "\n",
    "Trying out the discrete case."
   ]
  },
  {
   "cell_type": "code",
   "execution_count": 1,
   "metadata": {},
   "outputs": [],
   "source": [
    "from jaxtyping import install_import_hook\n",
    "\n",
    "#with install_import_hook(\"train_and_sample\", \"beartype.beartype\"):\n",
    "import train_and_sample as tas\n",
    "from example_data import corrupt_string"
   ]
  },
  {
   "cell_type": "code",
   "execution_count": 2,
   "metadata": {},
   "outputs": [],
   "source": [
    "import jax.numpy as jnp\n",
    "import jax.random as jr\n",
    "import flax.linen as nn\n",
    "import jax\n",
    "import optax"
   ]
  },
  {
   "cell_type": "code",
   "execution_count": 3,
   "metadata": {},
   "outputs": [],
   "source": [
    "d = 10\n",
    "k = 5\n",
    "dod = tas.DiscreteOutputDistribution(k, d)\n",
    "\n",
    "thetas_example = jr.uniform(jr.PRNGKey(0), (k, d))\n",
    "variables = dod.init(jr.PRNGKey(0), thetas_example, 0.5)\n",
    "out = dod.apply(variables, thetas_example, 0.5)"
   ]
  },
  {
   "cell_type": "code",
   "execution_count": 6,
   "metadata": {},
   "outputs": [
    {
     "data": {
      "text/plain": [
       "{'InnerNetwork_0': {'category_mixer': {'kernel': Array([[-0.09161296, -0.6874112 , -0.30309632, -0.44880354,  0.35827217],\n",
       "          [-0.17161633,  0.64222443, -0.539467  ,  0.9133116 , -0.261737  ],\n",
       "          [ 0.41200006, -0.00829238, -0.1983576 ,  0.867119  , -0.12587032],\n",
       "          [-0.22224309, -0.5260398 , -0.06105281,  0.31751642,  0.39841345],\n",
       "          [-0.0162582 ,  0.01465106, -0.37392122,  0.4502149 ,  0.51043797]],      dtype=float32),\n",
       "   'bias': Array([0., 0., 0., 0., 0.], dtype=float32)},\n",
       "  'position_mixer': {'kernel': Array([[-3.84128511e-01,  5.78072481e-02, -1.25126064e-01,\n",
       "            6.29644096e-02,  8.52497295e-02,  5.61563205e-03,\n",
       "           -6.76987618e-02, -2.67720539e-02, -6.01685226e-01,\n",
       "            9.22407657e-02],\n",
       "          [ 1.90649167e-01,  2.42735565e-01, -1.21889926e-01,\n",
       "           -5.27845144e-01, -1.74039081e-01,  5.62949739e-02,\n",
       "           -4.03896153e-01, -1.52295455e-01,  6.38252199e-01,\n",
       "            3.85828912e-01],\n",
       "          [-8.90800953e-02,  2.91366074e-02,  2.62520790e-01,\n",
       "           -4.89259601e-01, -4.83408153e-01, -3.15301955e-01,\n",
       "           -6.82324409e-01,  2.24251807e-01,  5.83690286e-01,\n",
       "            9.90133658e-02],\n",
       "          [ 1.58742100e-01, -3.56313889e-04,  2.59581834e-01,\n",
       "           -5.51055148e-02,  1.71643406e-01,  1.17016926e-01,\n",
       "           -1.22137889e-01, -2.57213175e-01, -4.88710642e-01,\n",
       "            1.09219104e-01],\n",
       "          [-4.36958522e-01,  7.48071522e-02,  6.06136434e-02,\n",
       "            4.16765958e-01,  2.97220439e-01, -3.70461583e-01,\n",
       "           -4.14813399e-01, -2.73002923e-01,  6.13934875e-01,\n",
       "            1.39285520e-01],\n",
       "          [ 1.61641121e-01,  6.10656023e-01, -1.82282314e-01,\n",
       "           -2.91155517e-01, -3.42402190e-01,  1.00286134e-01,\n",
       "           -7.14297667e-02,  3.72503638e-01,  2.44749114e-01,\n",
       "            3.93846154e-01],\n",
       "          [-2.26936072e-01,  2.34240606e-01, -1.18528642e-01,\n",
       "           -5.60142577e-01, -3.98474514e-01, -8.64085276e-03,\n",
       "            8.69642198e-02, -2.39090592e-01, -2.09129766e-01,\n",
       "            3.10637087e-01],\n",
       "          [-5.49922407e-01,  1.59735382e-01, -1.41547844e-01,\n",
       "            1.63577311e-02, -5.07372245e-02,  2.62896538e-01,\n",
       "            3.23673412e-02, -1.77495554e-01, -4.73935813e-01,\n",
       "           -4.30310220e-02],\n",
       "          [-5.16168714e-01,  5.12348235e-01,  8.04393813e-02,\n",
       "            6.24940813e-01,  2.35514104e-01, -2.11434007e-01,\n",
       "           -8.98776501e-02, -2.32676283e-01,  2.32153237e-01,\n",
       "           -4.04713601e-01],\n",
       "          [ 5.78543782e-01, -1.21854849e-01, -4.95865941e-02,\n",
       "           -4.83250201e-01,  8.34472030e-02, -2.22822413e-01,\n",
       "           -4.98416781e-01,  1.52126908e-01, -5.11171222e-02,\n",
       "           -1.94380358e-01]], dtype=float32),\n",
       "   'bias': Array([0., 0., 0., 0., 0., 0., 0., 0., 0., 0.], dtype=float32)}}}"
      ]
     },
     "execution_count": 6,
     "metadata": {},
     "output_type": "execute_result"
    }
   ],
   "source": [
    "variables[\"params\"]"
   ]
  },
  {
   "cell_type": "code",
   "execution_count": 4,
   "metadata": {},
   "outputs": [
    {
     "data": {
      "text/plain": [
       "Array(5.449535, dtype=float32)"
      ]
     },
     "execution_count": 4,
     "metadata": {},
     "output_type": "execute_result"
    }
   ],
   "source": [
    "key = jr.PRNGKey(0)\n",
    "key, subkey = jr.split(key)\n",
    "x = jr.randint(key, shape=(d,), minval=0, maxval=k)\n",
    "tas.loss(x, variables, dod, 0.5, key=subkey)"
   ]
  },
  {
   "cell_type": "code",
   "execution_count": 5,
   "metadata": {},
   "outputs": [
    {
     "data": {
      "text/plain": [
       "Array([0, 4, 0, 2, 3, 3, 0, 3, 4, 4], dtype=int32)"
      ]
     },
     "execution_count": 5,
     "metadata": {},
     "output_type": "execute_result"
    }
   ],
   "source": [
    "key, subkey = jr.split(key)\n",
    "tas.sample(variables, dod, 0.5, 100, key=subkey)"
   ]
  },
  {
   "cell_type": "markdown",
   "metadata": {},
   "source": [
    "### Trying Training"
   ]
  },
  {
   "cell_type": "code",
   "execution_count": 7,
   "metadata": {},
   "outputs": [],
   "source": [
    "example_data = corrupt_string(\"elisroberts\", 100, 0.15)\n",
    "num_cats = 26\n",
    "d = len(example_data[0])"
   ]
  },
  {
   "cell_type": "code",
   "execution_count": 9,
   "metadata": {},
   "outputs": [],
   "source": [
    "# Initialize model\n",
    "model = tas.DiscreteOutputDistribution(num_cats, d)\n",
    "thetas_prior = jnp.ones((num_cats, d)) / num_cats\n",
    "\n",
    "variables = model.init(jr.PRNGKey(0), thetas_prior, 1.0)"
   ]
  },
  {
   "cell_type": "code",
   "execution_count": 10,
   "metadata": {},
   "outputs": [],
   "source": [
    "optim = optax.adam(1e-3)\n",
    "opt_state = optim.init(variables)"
   ]
  },
  {
   "cell_type": "code",
   "execution_count": null,
   "metadata": {},
   "outputs": [],
   "source": [
    "def compute_loss(model, )\n",
    "\n",
    "\n",
    "def make_step(model, g, label, optim, opt_state):\n",
    "    \"\"\"Calculate loss & grad and update model according to optimiser.\"\"\"\n",
    "    loss, grads = compute_loss(model, g, label)\n",
    "    updates, opt_state = optim.update(grads, opt_state)\n",
    "    model = eqx.apply_updates(model, updates)\n",
    "    return loss, model, opt_state"
   ]
  }
 ],
 "metadata": {
  "kernelspec": {
   "display_name": "jax_env",
   "language": "python",
   "name": "python3"
  },
  "language_info": {
   "codemirror_mode": {
    "name": "ipython",
    "version": 3
   },
   "file_extension": ".py",
   "mimetype": "text/x-python",
   "name": "python",
   "nbconvert_exporter": "python",
   "pygments_lexer": "ipython3",
   "version": "3.11.4"
  },
  "orig_nbformat": 4
 },
 "nbformat": 4,
 "nbformat_minor": 2
}
